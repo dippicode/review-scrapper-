{
 "cells": [
  {
   "cell_type": "code",
   "execution_count": 13,
   "id": "b1c74a1d",
   "metadata": {},
   "outputs": [],
   "source": [
    "from flask_cors import CORS,cross_origin"
   ]
  },
  {
   "cell_type": "code",
   "execution_count": 4,
   "id": "67f9c92b",
   "metadata": {},
   "outputs": [],
   "source": [
    "from flask import Flask, render_template, request,jsonify"
   ]
  },
  {
   "cell_type": "code",
   "execution_count": 5,
   "id": "8d960d36",
   "metadata": {},
   "outputs": [],
   "source": [
    " import requests"
   ]
  },
  {
   "cell_type": "code",
   "execution_count": 6,
   "id": "b2b08665",
   "metadata": {},
   "outputs": [],
   "source": [
    "from bs4 import BeautifulSoup as bs"
   ]
  },
  {
   "cell_type": "code",
   "execution_count": 7,
   "id": "f83db6b3",
   "metadata": {},
   "outputs": [],
   "source": [
    "from urllib.request import urlopen as uReq"
   ]
  },
  {
   "cell_type": "code",
   "execution_count": 14,
   "id": "6615d476",
   "metadata": {},
   "outputs": [],
   "source": [
    "\n",
    "from flask_cors import CORS,cross_origin"
   ]
  },
  {
   "cell_type": "code",
   "execution_count": 15,
   "id": "3161682f",
   "metadata": {},
   "outputs": [
    {
     "name": "stdout",
     "output_type": "stream",
     "text": [
      "Requirement already satisfied: Flask-Cors in c:\\users\\admin\\anaconda3\\lib\\site-packages (3.0.10)\n",
      "Requirement already satisfied: Flask>=0.9 in c:\\users\\admin\\anaconda3\\lib\\site-packages (from Flask-Cors) (1.1.2)\n",
      "Requirement already satisfied: Six in c:\\users\\admin\\anaconda3\\lib\\site-packages (from Flask-Cors) (1.16.0)\n",
      "Requirement already satisfied: Jinja2>=2.10.1 in c:\\users\\admin\\anaconda3\\lib\\site-packages (from Flask>=0.9->Flask-Cors) (2.11.3)\n",
      "Requirement already satisfied: click>=5.1 in c:\\users\\admin\\anaconda3\\lib\\site-packages (from Flask>=0.9->Flask-Cors) (8.0.4)\n",
      "Requirement already satisfied: Werkzeug>=0.15 in c:\\users\\admin\\anaconda3\\lib\\site-packages (from Flask>=0.9->Flask-Cors) (2.0.3)\n",
      "Requirement already satisfied: itsdangerous>=0.24 in c:\\users\\admin\\anaconda3\\lib\\site-packages (from Flask>=0.9->Flask-Cors) (2.0.1)\n",
      "Requirement already satisfied: colorama in c:\\users\\admin\\anaconda3\\lib\\site-packages (from click>=5.1->Flask>=0.9->Flask-Cors) (0.4.4)\n",
      "Requirement already satisfied: MarkupSafe>=0.23 in c:\\users\\admin\\anaconda3\\lib\\site-packages (from Jinja2>=2.10.1->Flask>=0.9->Flask-Cors) (2.0.1)\n"
     ]
    }
   ],
   "source": [
    "!pip install Flask-Cors"
   ]
  },
  {
   "cell_type": "code",
   "execution_count": 11,
   "id": "964d3670",
   "metadata": {},
   "outputs": [],
   "source": [
    "from flask_cors import CORS"
   ]
  },
  {
   "cell_type": "code",
   "execution_count": 12,
   "id": "4e46338b",
   "metadata": {},
   "outputs": [],
   "source": [
    "from flask import Flask"
   ]
  },
  {
   "cell_type": "code",
   "execution_count": null,
   "id": "dbd55b60",
   "metadata": {},
   "outputs": [],
   "source": [
    "flipkart_url = \"https://www.flipkart.com/search?q=\" + searchString"
   ]
  }
 ],
 "metadata": {
  "kernelspec": {
   "display_name": "Python 3 (ipykernel)",
   "language": "python",
   "name": "python3"
  },
  "language_info": {
   "codemirror_mode": {
    "name": "ipython",
    "version": 3
   },
   "file_extension": ".py",
   "mimetype": "text/x-python",
   "name": "python",
   "nbconvert_exporter": "python",
   "pygments_lexer": "ipython3",
   "version": "3.8.12"
  }
 },
 "nbformat": 4,
 "nbformat_minor": 5
}
